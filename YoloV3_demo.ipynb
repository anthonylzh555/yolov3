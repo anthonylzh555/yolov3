{
 "cells": [
  {
   "cell_type": "markdown",
   "metadata": {},
   "source": [
    "# YOLO V3 (Keras) Fastbreak\n",
    "> You can train your own YOLO V3 model with the instruction below.\n",
    "<br> citation : https://github.com/qqwweee/keras-yolo3 <br/>\n",
    "***"
   ]
  },
  {
   "cell_type": "markdown",
   "metadata": {},
   "source": [
    "## Quick Start:\n",
    " \n",
    "- [x] Step 1 : Download YOLOv3 weights from YOLO website.\n",
    "- [x] Step 2 : Convert the Darknet YOLO model to a Keras model.\n",
    "- [ ] Step 3 : Run YOLO detection.\n",
    "\n",
    "> Step 1 and Step 2 are done.\n",
    "<br>path : “model_data/yolo_weights.h5”<br/>"
   ]
  },
  {
   "cell_type": "markdown",
   "metadata": {},
   "source": [
    "***\n",
    "\n",
    "## Step 1 :\n",
    "### Put your dataset in specific document. Please notice that the data name should be the same.\n",
    "> - Original Image  ----- > \"./dataset/img\"<br/>\n",
    "> - Labal .xml      ----- > \"./dataset/xml\"<br/>\n",
    "\n",
    "### Run \"convert_dataframe.py\" to convert your dataset into yolo dataframe. \n",
    "It will pop up a text file \"own_datapath.txt\" which yolov3 need.\n",
    "> - The content of “own_datapath.txt” may follow the rule bellow.<br/>\n",
    "> - (Filepath (blank) boundingbox(x, y, w, h), Category(index))<br/>\n",
    "> - e.g. ”dataset/img/car1.jpg 52,12,544,313,6“\n"
   ]
  },
  {
   "cell_type": "code",
   "execution_count": null,
   "metadata": {},
   "outputs": [],
   "source": [
    "%run convert_dataframe.py"
   ]
  },
  {
   "cell_type": "markdown",
   "metadata": {},
   "source": [
    "### Run \"kmeans.py\" to cluster your anchors' scale with bounding box.\n",
    "> the anchor size and accuracy would be print below <br/>"
   ]
  },
  {
   "cell_type": "code",
   "execution_count": null,
   "metadata": {
    "scrolled": true
   },
   "outputs": [],
   "source": [
    "%run kmeans.py"
   ]
  },
  {
   "cell_type": "markdown",
   "metadata": {},
   "source": [
    "***\n",
    "\n",
    "## Step 2:\n",
    "### Replace the class name inside \"./model_data/class.txt\" and note the class order.\n",
    "> There are some parameters inside \"train.py\" can be adjusted , please check before it start.\n",
    "> - e.g. file path, input_shape, data split, learning rate, etc.\n",
    "\n",
    "### Run the cell below to train your own model. \n",
    "> After training, it will generate “logs/000/trained_weights_final.h5”. This file has to be moved into \"./model_data/\""
   ]
  },
  {
   "cell_type": "code",
   "execution_count": null,
   "metadata": {},
   "outputs": [],
   "source": [
    "%run train.py"
   ]
  },
  {
   "cell_type": "code",
   "execution_count": null,
   "metadata": {},
   "outputs": [],
   "source": [
    "# copy and move the file\n",
    "import shutil\n",
    "shutil.copyfile('logs/001/trained_weights_final.h5', 'model_data/yolo_weights_own.h5')"
   ]
  },
  {
   "cell_type": "markdown",
   "metadata": {},
   "source": []
  },
  {
   "cell_type": "code",
   "execution_count": null,
   "metadata": {},
   "outputs": [],
   "source": []
  },
  {
   "cell_type": "code",
   "execution_count": null,
   "metadata": {},
   "outputs": [],
   "source": []
  },
  {
   "cell_type": "code",
   "execution_count": null,
   "metadata": {},
   "outputs": [],
   "source": []
  }
 ],
 "metadata": {
  "kernelspec": {
   "display_name": "Python(tf_gpu_2020)",
   "language": "python",
   "name": "tf_gpu_2020"
  },
  "language_info": {
   "codemirror_mode": {
    "name": "ipython",
    "version": 3
   },
   "file_extension": ".py",
   "mimetype": "text/x-python",
   "name": "python",
   "nbconvert_exporter": "python",
   "pygments_lexer": "ipython3",
   "version": "3.7.0"
  }
 },
 "nbformat": 4,
 "nbformat_minor": 2
}
