{
 "cells": [
  {
   "cell_type": "markdown",
   "metadata": {},
   "source": [
    "# YOLO V3 (Keras) Fastbreak\n",
    "> This toturial helps you to train your own dataset\n",
    "<br> citation : https://github.com/qqwweee/keras-yolo3 <br/>\n",
    "***"
   ]
  },
  {
   "cell_type": "markdown",
   "metadata": {},
   "source": [
    "## Quick Start:\n",
    " \n",
    "- [x] Step 1 : Download YOLOv3 weights from YOLO website.\n",
    "- [x] Step 2 : Convert the Darknet YOLO model to a Keras model.\n",
    "- [ ] Step 3 : Run YOLO detection.\n",
    "\n",
    "> Step 1 and Step 2 are done.\n",
    "<br>path : “model_data/yolo_weights.h5”<br/>"
   ]
  },
  {
   "cell_type": "markdown",
   "metadata": {},
   "source": [
    "***\n",
    "\n",
    "## Step 1 :\n",
    "- Put your dataset in specific document. Please notice that the data name should be the same.\n",
    ">Original Image  ----- > \"./dataset/img\"<br/>\n",
    ">Labal .xml      ----- > \"./dataset/xml\"<br/>\n",
    "\n",
    "- Run \"convert_dataframe.py\" to convert your dataset into yolo dataframe. \n",
    "> It will pop up a text file \"own_datapath.txt\" which yolov3 need.\n",
    ">> The content of “own_datapath.txt” may follow the rule bellow.<br/>\n",
    ">> (Filepath (blank) boundingbox(x, y, w, h), Category(index))<br/>\n",
    ">> e.g. ”dataset/img/car1.jpg 52,12,544,313,6“\n"
   ]
  },
  {
   "cell_type": "code",
   "execution_count": null,
   "metadata": {},
   "outputs": [],
   "source": [
    "%run convert_dataframe.py"
   ]
  },
  {
   "cell_type": "markdown",
   "metadata": {},
   "source": [
    "- Run \"Run kmeans.py\" to cluster your anchors scale with bounding box.\n",
    "> the anchor size and accuracy would be print below <br/>"
   ]
  },
  {
   "cell_type": "code",
   "execution_count": null,
   "metadata": {
    "scrolled": true
   },
   "outputs": [],
   "source": [
    "%run kmeans.py"
   ]
  },
  {
   "cell_type": "code",
   "execution_count": null,
   "metadata": {},
   "outputs": [],
   "source": []
  },
  {
   "cell_type": "code",
   "execution_count": null,
   "metadata": {},
   "outputs": [],
   "source": []
  },
  {
   "cell_type": "code",
   "execution_count": null,
   "metadata": {},
   "outputs": [],
   "source": []
  },
  {
   "cell_type": "code",
   "execution_count": null,
   "metadata": {},
   "outputs": [],
   "source": []
  }
 ],
 "metadata": {
  "kernelspec": {
   "display_name": "Python(tf_gpu_2020)",
   "language": "python",
   "name": "tf_gpu_2020"
  },
  "language_info": {
   "codemirror_mode": {
    "name": "ipython",
    "version": 3
   },
   "file_extension": ".py",
   "mimetype": "text/x-python",
   "name": "python",
   "nbconvert_exporter": "python",
   "pygments_lexer": "ipython3",
   "version": "3.7.0"
  }
 },
 "nbformat": 4,
 "nbformat_minor": 2
}
